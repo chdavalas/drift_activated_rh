{
 "cells": [
  {
   "cell_type": "code",
   "execution_count": 4,
   "id": "specialized-refund",
   "metadata": {
    "executionInfo": {
     "elapsed": 10,
     "status": "ok",
     "timestamp": 1636444131551,
     "user": {
      "displayName": "Charalampos Davalas",
      "photoUrl": "https://lh3.googleusercontent.com/a/default-user=s64",
      "userId": "01479009678063787320"
     },
     "user_tz": -120
    },
    "id": "specialized-refund"
   },
   "outputs": [],
   "source": [
    "import pandas as pd\n",
    "from ipywidgets import widgets\n",
    "from IPython.display import display\n",
    "import numpy as np"
   ]
  },
  {
   "cell_type": "code",
   "execution_count": 5,
   "id": "m6r5WlNcjIl8",
   "metadata": {
    "executionInfo": {
     "elapsed": 12,
     "status": "ok",
     "timestamp": 1636444131844,
     "user": {
      "displayName": "Charalampos Davalas",
      "photoUrl": "https://lh3.googleusercontent.com/a/default-user=s64",
      "userId": "01479009678063787320"
     },
     "user_tz": -120
    },
    "id": "m6r5WlNcjIl8"
   },
   "outputs": [],
   "source": [
    "import matplotlib.pyplot as plt\n",
    "from cycler import cycler\n",
    "from random import sample,seed\n",
    "seed(12434)\n",
    "\n",
    "default_cycler = cycler(linestyle=sample(['--', '-.'],2))\n",
    "default_cycler = cycler(color=['#1f77b4', '#ff7f0e', '#2ca02c', '#d62728', '#9467bd', '#8c564b', '#e377c2', '#7f7f7f', '#bcbd22', '#17becf'])\n",
    "\n",
    "plt.rc('lines', linewidth=4)\n",
    "plt.rc('axes', prop_cycle=default_cycler)"
   ]
  },
  {
   "cell_type": "markdown",
   "id": "european-infrastructure",
   "metadata": {
    "id": "european-infrastructure"
   },
   "source": [
    "## Read CSV"
   ]
  },
  {
   "cell_type": "code",
   "execution_count": 6,
   "id": "compliant-coordinator",
   "metadata": {
    "colab": {
     "base_uri": "https://localhost:8080/",
     "height": 461
    },
    "executionInfo": {
     "elapsed": 694,
     "status": "ok",
     "timestamp": 1636444261607,
     "user": {
      "displayName": "Charalampos Davalas",
      "photoUrl": "https://lh3.googleusercontent.com/a/default-user=s64",
      "userId": "01479009678063787320"
     },
     "user_tz": -120
    },
    "id": "compliant-coordinator",
    "outputId": "fa567763-b3cc-4363-ea63-ec6533d02b4d"
   },
   "outputs": [
    {
     "ename": "IndexError",
     "evalue": "list index out of range",
     "output_type": "error",
     "traceback": [
      "\u001b[0;31m---------------------------------------------------------------------------\u001b[0m",
      "\u001b[0;31mIndexError\u001b[0m                                Traceback (most recent call last)",
      "Input \u001b[0;32mIn [6]\u001b[0m, in \u001b[0;36m<cell line: 17>\u001b[0;34m()\u001b[0m\n\u001b[1;32m     14\u001b[0m \u001b[38;5;28;01mfrom\u001b[39;00m \u001b[38;5;21;01mglob\u001b[39;00m \u001b[38;5;28;01mimport\u001b[39;00m glob\n\u001b[1;32m     16\u001b[0m fn \u001b[38;5;241m=\u001b[39m glob(\u001b[38;5;124m\"\u001b[39m\u001b[38;5;124m*.csv\u001b[39m\u001b[38;5;124m\"\u001b[39m)\n\u001b[0;32m---> 17\u001b[0m df \u001b[38;5;241m=\u001b[39m pd\u001b[38;5;241m.\u001b[39mread_csv(\u001b[43mfn\u001b[49m\u001b[43m[\u001b[49m\u001b[38;5;241;43m0\u001b[39;49m\u001b[43m]\u001b[49m)\n\u001b[1;32m     19\u001b[0m df\n",
      "\u001b[0;31mIndexError\u001b[0m: list index out of range"
     ]
    }
   ],
   "source": [
    "# textWidget=widgets.Text()\n",
    "# print('Enter a csv filename:')\n",
    "# display(textWidget)\n",
    "\n",
    "# df = None\n",
    "\n",
    "# def handle_submit(sender):\n",
    "#     global df\n",
    "#     filename = textWidget.value\n",
    "#     print(\"Reading {}\".format(filename))\n",
    "\n",
    "# textWidget.on_submit(handle_submit)\n",
    "\n",
    "from glob import glob\n",
    "\n",
    "fn = glob(\"*.csv\")\n",
    "df = pd.read_csv(fn[0])\n",
    "\n",
    "df"
   ]
  },
  {
   "cell_type": "code",
   "execution_count": null,
   "id": "pointed-mauritius",
   "metadata": {
    "colab": {
     "base_uri": "https://localhost:8080/"
    },
    "executionInfo": {
     "elapsed": 291,
     "status": "ok",
     "timestamp": 1636444257008,
     "user": {
      "displayName": "Charalampos Davalas",
      "photoUrl": "https://lh3.googleusercontent.com/a/default-user=s64",
      "userId": "01479009678063787320"
     },
     "user_tz": -120
    },
    "id": "pointed-mauritius",
    "outputId": "cf598408-4572-41a1-cd67-814c91f9c453"
   },
   "outputs": [],
   "source": [
    "\n",
    "all_methods = [\"catf\", \"conr1\", \"conr10\", \"conr25\", \"conr50\", \"drifta50\", \"2drifta50\", \"cont_conv\", \"drifta_conv\", \"2drifta_conv\"]\n",
    "lmethod     = [\"\\catf{}\", \"\\conr[1]{}\", \"\\conr[10]{}\", \"\\conr[25]{}\", \"\\conr[50]{}\", \"\\driftadyn[50]{}\", \"\\ddriftadyn[50]{}\", \"\\conrconv\", \"\\driftaconv\", \"\\ddriftaconv\"]\n",
    "\n",
    "latex_method_name = {}\n",
    "\n",
    "for k, method in enumerate(all_methods):\n",
    "    latex_method_name[method]=lmethod[k]\n",
    "\n",
    "\n",
    "methods = [\"catf\", \"conr1\", \"conr10\", \"conr25\", \"conr50\", \"drifta\" \"2drifta\", \"cont_conv\", \"drifta_conv\", \"2drifta_conv\"]\n",
    "#methods = [\"catf\", \"conr1\", \"conr10\", \"drifta\", \"2drifta\"]\n",
    "print(df.columns)"
   ]
  },
  {
   "cell_type": "markdown",
   "id": "apparent-arbor",
   "metadata": {
    "id": "apparent-arbor"
   },
   "source": [
    "## Compute times"
   ]
  },
  {
   "cell_type": "code",
   "execution_count": null,
   "id": "lasting-structure",
   "metadata": {
    "executionInfo": {
     "elapsed": 16,
     "status": "ok",
     "timestamp": 1636444132161,
     "user": {
      "displayName": "Charalampos Davalas",
      "photoUrl": "https://lh3.googleusercontent.com/a/default-user=s64",
      "userId": "01479009678063787320"
     },
     "user_tz": -120
    },
    "id": "lasting-structure"
   },
   "outputs": [],
   "source": [
    "# columns = []\n",
    "\n",
    "# # for lr in [0.01]:\n",
    "# #     for opt in [\"sgd\"]: \n",
    "# #         for method in [\"drifta\", \"2drifta\", \"drifta_conv\", \"2drifta_conv\"]:\n",
    "# #             columns += [\"times_{}_{}_{}\".format(method, opt, lr)]\n",
    "\n",
    "# for lr in [0.01]:\n",
    "#     for opt in [\"sgd\"]: \n",
    "#         for method in [\"2drifta1\", \"2drifta10\", \"2drifta25\", \"2drifta_conv\", \"2drifta\"]:\n",
    "#             columns += [\"times_{}_{}_{}\".format(method, opt, lr)]\n",
    "\n",
    "\n",
    "# for lr in [0.01]:\n",
    "#     for opt in [\"sgd\"]: \n",
    "#         for method in [\"drifta1\", \"drifta10\", \"drifta25\",  \"drifta_conv\", \"drifta\"]:\n",
    "#             columns += [\"times_{}_{}_{}\".format(method, opt, lr)]\n",
    "            \n",
    "# for lr in [0.01]:\n",
    "#     for opt in [\"sgd\"]: \n",
    "#         for method in [ \"conr1\", \"conr10\", \"conr25\", \"conr50\", \"cont_conv\"]:\n",
    "#             columns += [\"times_{}_{}_{}\".format(method, opt, lr)]            \n",
    "            \n",
    "# times = df[columns].cumsum()\n",
    "# times"
   ]
  },
  {
   "cell_type": "markdown",
   "id": "cutting-wrist",
   "metadata": {
    "id": "cutting-wrist"
   },
   "source": [
    "## Plot times"
   ]
  },
  {
   "cell_type": "code",
   "execution_count": null,
   "id": "interior-generator",
   "metadata": {
    "executionInfo": {
     "elapsed": 16,
     "status": "ok",
     "timestamp": 1636444132163,
     "user": {
      "displayName": "Charalampos Davalas",
      "photoUrl": "https://lh3.googleusercontent.com/a/default-user=s64",
      "userId": "01479009678063787320"
     },
     "user_tz": -120
    },
    "id": "interior-generator",
    "scrolled": false
   },
   "outputs": [],
   "source": [
    "#times.plot(figsize=(15,8),colormap=\"tab20\", linewidth=4, alpha=0.7)"
   ]
  },
  {
   "cell_type": "markdown",
   "id": "desirable-album",
   "metadata": {
    "id": "desirable-album"
   },
   "source": [
    "## Compute number of training batches"
   ]
  },
  {
   "cell_type": "code",
   "execution_count": null,
   "id": "operating-uruguay",
   "metadata": {
    "colab": {
     "base_uri": "https://localhost:8080/",
     "height": 266
    },
    "executionInfo": {
     "elapsed": 1590,
     "status": "ok",
     "timestamp": 1636444133739,
     "user": {
      "displayName": "Charalampos Davalas",
      "photoUrl": "https://lh3.googleusercontent.com/a/default-user=s64",
      "userId": "01479009678063787320"
     },
     "user_tz": -120
    },
    "id": "operating-uruguay",
    "outputId": "f2729e1a-b8ec-4d72-eeaf-1bcafa9be04f"
   },
   "outputs": [],
   "source": [
    "columns = []\n",
    "\n",
    "for lr in [0.01]:\n",
    "    for opt in [\"sgd\"]: \n",
    "        for method in [ \"catf\", \"conr1\", \"conr50\", \"drifta50\",  \"2drifta_conv\",]:\n",
    "            columns += [\"train_batches_{}_{}_{}\".format(method, opt, lr)]\n",
    "           \n",
    "\n",
    "train_batches=df[columns].cumsum()\n",
    "\n",
    "train_batches\n",
    "px = 1/plt.rcParams['figure.dpi'] \n",
    "center=0\n",
    "window=3000\n",
    "train_batches.loc[(df[\"step\"]>=center-window/2) & (df[\"step\"]<=center+window/2)].plot(figsize=(2000*px,400*px), logy=True, linewidth=4, alpha=1)\n",
    "\n",
    "\n",
    "name_map = \\\n",
    "{col:col.replace(\"train_batches_\",\"\").replace(\"_sgd_0.01\",\"\").upper().replace(\"CONR\",\"ER-\").replace(\"DRIFTA\",\"DRIFTA-DYN-\").replace(\"DRIFTA-DYN-_CONV\", \"DRIFTA-CONV\")  for col in columns}\n",
    "\n",
    "\n",
    "\n",
    "name_map[\"train_batches_catf_sgd_0.01\"] = \"No rehearsal\"\n",
    "\n",
    "#print(name_map)\n",
    "plt.title('Number of training iterations (log scale)',fontsize=35, loc='center')\n",
    "plt.legend(name_map.values(),ncol=5, fontsize=25)\n",
    "plt.grid()\n",
    "plt.tight_layout(pad=1.5)\n",
    "plt.yticks(fontsize=25)\n",
    "plt.xticks(fontsize=25)\n",
    "plt.yticks([1,100,10000])\n",
    "plt.savefig(\"mnist-exp3-buf50-train_batches\")\n"
   ]
  },
  {
   "cell_type": "markdown",
   "id": "split-boost",
   "metadata": {
    "id": "split-boost"
   },
   "source": [
    "\n",
    "## Plot average accuracy (on all tasks) per method"
   ]
  },
  {
   "cell_type": "code",
   "execution_count": null,
   "id": "internal-czech",
   "metadata": {
    "colab": {
     "base_uri": "https://localhost:8080/",
     "height": 266
    },
    "executionInfo": {
     "elapsed": 830,
     "status": "ok",
     "timestamp": 1636444134558,
     "user": {
      "displayName": "Charalampos Davalas",
      "photoUrl": "https://lh3.googleusercontent.com/a/default-user=s64",
      "userId": "01479009678063787320"
     },
     "user_tz": -120
    },
    "id": "internal-czech",
    "outputId": "dfb206fc-06be-4ba3-b0a6-4dfe30f57eae"
   },
   "outputs": [],
   "source": [
    "columns = []\n",
    "\n",
    "for lr in [0.01]:\n",
    "    for opt in [\"sgd\"]: \n",
    "        for method in [ \"catf\", \"conr1\", \"conr50\", \"drifta50\",  \"2drifta_conv\",]:\n",
    "            columns += [\"acc_avg_{}_{}_{}\".format(method, opt, lr)]\n",
    "\n",
    "\n",
    "center=0\n",
    "window=3000\n",
    "name_map = {col:col.replace(\"acc_avg_\",\"\").replace(\"_sgd_0.01\",\"\").upper().replace(\"CONR\",\"ER-\").replace(\"DRIFTA\",\"DRIFTA-DYN-\").replace(\"DRIFTA-DYN-_CONV\", \"DRIFTA-CONV\")  for col in columns}\n",
    "#print(name_map)\n",
    "px = 1/plt.rcParams['figure.dpi'] \n",
    "#df[columns].plot(figsize=(2000*px,400*px), linewidth=4, alpha=1)\n",
    "\n",
    "acc_avg = df[columns ].iloc[1000:1500]\n",
    "\n",
    "acc_avg.plot(figsize=(2000*px,400*px), linewidth=4, alpha=1)\n",
    "\n",
    "name_map[\"acc_avg_pretrain\"]=\"Baseline\"\n",
    "name_map[\"acc_avg_catf_sgd_0.01\"] = \"No rehearsal\"\n",
    "\n",
    "plt.title('Average accuracy $(A_t)$',fontsize=35, loc='center')\n",
    "plt.legend(name_map.values(),ncol=5, loc='lower right', fontsize=22)\n",
    "plt.grid()\n",
    "plt.tight_layout(pad=1.5)\n",
    "plt.yticks(fontsize=25)\n",
    "plt.xticks(fontsize=25)\n",
    "plt.savefig(\"mnist-exp3-buf50-avg-acc.png\")\n",
    "\n"
   ]
  },
  {
   "cell_type": "markdown",
   "id": "authorized-indonesia",
   "metadata": {
    "id": "authorized-indonesia"
   },
   "source": [
    "## Zoom in an plot average accuracy up close"
   ]
  },
  {
   "cell_type": "code",
   "execution_count": null,
   "id": "significant-therapy",
   "metadata": {
    "executionInfo": {
     "elapsed": 18,
     "status": "ok",
     "timestamp": 1636444134560,
     "user": {
      "displayName": "Charalampos Davalas",
      "photoUrl": "https://lh3.googleusercontent.com/a/default-user=s64",
      "userId": "01479009678063787320"
     },
     "user_tz": -120
    },
    "id": "significant-therapy"
   },
   "outputs": [],
   "source": [
    "#center=400\n",
    "#window=50\n",
    "#df[columns + [\"acc_avg_pretrain\"]].loc[(df[\"step\"]>=center-window/2) & (df[\"step\"]<=center+window/2)].plot(figsize=(15,8),colormap=\"tab20\", linewidth=4, alpha=0.7)\n"
   ]
  },
  {
   "cell_type": "markdown",
   "id": "patent-appointment",
   "metadata": {
    "id": "patent-appointment"
   },
   "source": [
    "## Forgetting average "
   ]
  },
  {
   "cell_type": "code",
   "execution_count": null,
   "id": "super-spouse",
   "metadata": {
    "executionInfo": {
     "elapsed": 16,
     "status": "ok",
     "timestamp": 1636444134562,
     "user": {
      "displayName": "Charalampos Davalas",
      "photoUrl": "https://lh3.googleusercontent.com/a/default-user=s64",
      "userId": "01479009678063787320"
     },
     "user_tz": -120
    },
    "id": "super-spouse",
    "scrolled": false
   },
   "outputs": [],
   "source": [
    "#columns = []\n",
    "#for opt in [\"sgd\", \"adam\"]: \n",
    "#    for method in methods:\n",
    "#        columns += [\"forget_avg_{}_{}_{}\".format(method, opt, lr)]\n",
    "#df[columns].plot(grid=True, figsize=(15,10))"
   ]
  },
  {
   "cell_type": "markdown",
   "id": "ordinary-mayor",
   "metadata": {
    "id": "ordinary-mayor"
   },
   "source": [
    "## Zoom in on forgetting average"
   ]
  },
  {
   "cell_type": "code",
   "execution_count": null,
   "id": "subsequent-quantity",
   "metadata": {
    "executionInfo": {
     "elapsed": 17,
     "status": "ok",
     "timestamp": 1636444134564,
     "user": {
      "displayName": "Charalampos Davalas",
      "photoUrl": "https://lh3.googleusercontent.com/a/default-user=s64",
      "userId": "01479009678063787320"
     },
     "user_tz": -120
    },
    "id": "subsequent-quantity"
   },
   "outputs": [],
   "source": [
    "#center=1200\n",
    "#window=250\n",
    "#df[columns].loc[(df[\"step\"]>=center-window/2) & (df[\"step\"]<=center+window/2)].plot(figsize=(15,8),colormap=\"tab20\", linewidth=4, alpha=0.7)"
   ]
  },
  {
   "cell_type": "markdown",
   "id": "japanese-croatia",
   "metadata": {
    "id": "japanese-croatia"
   },
   "source": [
    "## Running accuracy (accuracy only on the current task)"
   ]
  },
  {
   "cell_type": "code",
   "execution_count": null,
   "id": "optimum-happiness",
   "metadata": {
    "colab": {
     "base_uri": "https://localhost:8080/",
     "height": 305
    },
    "executionInfo": {
     "elapsed": 507,
     "status": "ok",
     "timestamp": 1636444135058,
     "user": {
      "displayName": "Charalampos Davalas",
      "photoUrl": "https://lh3.googleusercontent.com/a/default-user=s64",
      "userId": "01479009678063787320"
     },
     "user_tz": -120
    },
    "id": "optimum-happiness",
    "outputId": "2253365d-980d-4cf9-c1ec-af4f0901dcfb"
   },
   "outputs": [],
   "source": [
    "columns = []\n",
    "\n",
    "for lr in [0.01]:\n",
    "    for opt in [\"sgd\"]: \n",
    "      for method in [\"catf\",\"conr1\", \"conr50\", \"drifta50\", \"2drifta_conv\"]:\n",
    "            mapper = lambda row: row['acc_{}_{}_{}_T{}'.format(method, opt, lr, int(row['task']))]\n",
    "            column_name = 'acc_run_{}_{}_{}'.format(method, opt, lr)\n",
    "            columns += [column_name]\n",
    "            df[column_name] = df.apply(mapper, axis=1)\n",
    "        \n",
    "\n",
    "name_map = {col:col.replace(\"acc_run_\",\"\").replace(\"_sgd_0.01\",\"\").upper().replace(\"CONR\",\"ER-\").replace(\"DRIFTA\",\"DRIFTA-DYN-\").replace(\"DRIFTA-DYN-_CONV\", \"DRIFTA-CONV\")  for col in columns}\n",
    "print(name_map)\n",
    "\n",
    "running_acc = df[columns].iloc[1000:1500]\n",
    "\n",
    "#print(name_map)\n",
    "px = 1/plt.rcParams['figure.dpi'] \n",
    "\n",
    "name_map[\"acc_run_catf_sgd_0.01\"] = \"No rehearsal\"\n",
    "\n",
    "\n",
    "center=0\n",
    "window=3000\n",
    "#running_acc.loc[(df[\"step\"]>=center-window/2) & (df[\"step\"]<=center+window/2)].plot(figsize=(2000*px,400*px), linewidth=4, alpha=1)\n",
    "running_acc.plot(figsize=(2000*px,400*px), linewidth=4, alpha=1)\n",
    "\n",
    "\n",
    "plt.title('Current task accuracy $C_t$ (50 samples per class)',fontsize=35, loc='center')\n",
    "plt.legend(name_map.values(),ncol=2, fontsize=25,  loc='lower right')\n",
    "plt.grid()\n",
    "plt.tight_layout(pad=1.5)\n",
    "plt.yticks(fontsize=25)\n",
    "plt.xticks(fontsize=25)\n",
    "plt.savefig(\"mnist-exp3-buf50-running-acc.png\")"
   ]
  },
  {
   "cell_type": "markdown",
   "id": "failing-matthew",
   "metadata": {
    "id": "failing-matthew"
   },
   "source": [
    "# Zoom in on running accuracy"
   ]
  },
  {
   "cell_type": "code",
   "execution_count": null,
   "id": "danish-integration",
   "metadata": {
    "executionInfo": {
     "elapsed": 18,
     "status": "ok",
     "timestamp": 1636444135061,
     "user": {
      "displayName": "Charalampos Davalas",
      "photoUrl": "https://lh3.googleusercontent.com/a/default-user=s64",
      "userId": "01479009678063787320"
     },
     "user_tz": -120
    },
    "id": "danish-integration",
    "scrolled": false
   },
   "outputs": [],
   "source": [
    "# center=100\n",
    "# window=100\n",
    "# running_acc.loc[(df[\"step\"]>=center-window/2) & (df[\"step\"]<=center+window/2)].plot(figsize=(15,8),colormap=\"tab20\", linewidth=4, alpha=0.7)\n",
    "#df.columns[20:50]\n",
    "#df[[\"diff_X_t_drifta_conv_sgd_0.01\", \"detected_drift_drifta_conv_sgd_0.01\"]].loc[(df[\"step\"]>=center-window/2) & (df[\"step\"]<=center+window/2)].plot(figsize=(15, 10))\n",
    "#df[[\"detected_drift_drifta_conv_sgd_0.01\"]].astype(int).loc[(df[\"step\"]>=center-window/2) & (df[\"step\"]<=center+window/2)].plot(figsize=(15, 10))\n",
    "#df[[\"Z_t_drifta_conv_sgd_0.01\"]].plot(figsize=(15, 10))\n",
    "#df[[\"detected_drift_drifta_sgd_0.01\"]].plot(figsize=(15, 10))"
   ]
  },
  {
   "cell_type": "markdown",
   "id": "remarkable-entrepreneur",
   "metadata": {
    "id": "remarkable-entrepreneur"
   },
   "source": [
    "# Online Accuracy"
   ]
  },
  {
   "cell_type": "code",
   "execution_count": null,
   "id": "homeless-catholic",
   "metadata": {
    "colab": {
     "base_uri": "https://localhost:8080/",
     "height": 304
    },
    "executionInfo": {
     "elapsed": 1038,
     "status": "ok",
     "timestamp": 1636444136082,
     "user": {
      "displayName": "Charalampos Davalas",
      "photoUrl": "https://lh3.googleusercontent.com/a/default-user=s64",
      "userId": "01479009678063787320"
     },
     "user_tz": -120
    },
    "id": "homeless-catholic",
    "outputId": "f36bfd53-60b1-437f-b080-b740f7908d7a"
   },
   "outputs": [],
   "source": [
    "columns = []\n",
    "\n",
    "for lr in [0.01]:\n",
    "    for opt in [\"sgd\"]: \n",
    "        for method in [\"conr1\", \"conr50\", \"drifta50\", \"2drifta_conv\",\"catf\"]:\n",
    "            columns += [\"online_acc_{}_{}_{}\".format(method, opt, lr)]  \n",
    "\n",
    "        \n",
    "name_map = {col:col.replace(\"online_acc_\",\"\").replace(\"_sgd_0.01\",\"\").upper().replace(\"CONR\",\"ER-\").replace(\"DRIFTA\",\"DRIFTA-DYN-\").replace(\"DRIFTA-DYN-_CONV\", \"DRIFTA-CONV\")  for col in columns}\n",
    "print(name_map)\n",
    "\n",
    "online_acc = df[columns]\n",
    "\n",
    "#print(name_map)\n",
    "px = 1/plt.rcParams['figure.dpi'] \n",
    "\n",
    "name_map[\"online_acc_catf_sgd_0.01\"] = \"No rehearsal\"\n",
    "center=0\n",
    "window=3000\n",
    "online_acc.loc[(df[\"step\"]>=center-window/2) & (df[\"step\"]<=center+window/2)].plot(figsize=(2000*px,400*px), linewidth=4, alpha=1)\n",
    "plt.title('Online accuracy $(O_t)$',fontsize=35, loc='center')\n",
    "plt.legend(name_map.values(),ncol=5, fontsize=25,  loc='lower right')\n",
    "plt.grid()\n",
    "plt.tight_layout(pad=1.5)\n",
    "plt.yticks(fontsize=25)\n",
    "plt.yticks([0.6, 0.7, 0.8, 0.9, 1])\n",
    "plt.xticks(fontsize=25)\n",
    "plt.savefig(\"mnist-exp3-buf50-online-acc.png\")\n"
   ]
  },
  {
   "cell_type": "markdown",
   "id": "x6b_ri-3HU6Z",
   "metadata": {
    "id": "x6b_ri-3HU6Z"
   },
   "source": [
    "## Create tables"
   ]
  },
  {
   "cell_type": "code",
   "execution_count": null,
   "id": "xbcwxCJ08if-",
   "metadata": {
    "colab": {
     "base_uri": "https://localhost:8080/"
    },
    "executionInfo": {
     "elapsed": 464,
     "status": "ok",
     "timestamp": 1636444136535,
     "user": {
      "displayName": "Charalampos Davalas",
      "photoUrl": "https://lh3.googleusercontent.com/a/default-user=s64",
      "userId": "01479009678063787320"
     },
     "user_tz": -120
    },
    "id": "xbcwxCJ08if-",
    "outputId": "f1b0ff48-0218-4dbf-fcff-b5312f146127"
   },
   "outputs": [],
   "source": [
    "metrics = {}\n",
    "_stats  = [\\\n",
    "          \"train_batches\", \"acc_avg\", \"acc_run\", \"online_acc\"]\n",
    "\n",
    "lstats = [\\\n",
    "          \"$N_{t}$\", \"$\\\\bar{A}$\",  \\\n",
    "          \"$\\\\bar{C}_{t}$\",  \\\n",
    "          \"$\\\\bar{O}_{t}$\"]\n",
    "\n",
    "LATEX_STATS = {s:ls for s,ls in zip(_stats,lstats)}\n",
    "\n",
    "stats  = [\\\n",
    "          \"train_batches\", \\\n",
    "          \"acc_avg\", \\\n",
    "          \"acc_run\", \\\n",
    "          \"online_acc\"]\n",
    "\n",
    "methods     =  [\"catf\", \"conr1\", \"conr10\", \"conr25\", \"conr50\", \"drifta50\", \"2drifta50\", \"drifta_conv\",  \"2drifta_conv\"]\n",
    "lr      = [0.01]\n",
    "opt     = [\"sgd\"]\n",
    "\n",
    "################################################################################\n",
    "columns = []\n",
    "for llr in lr:\n",
    "    for lopt in opt: \n",
    "        for method in methods:\n",
    "            columns += [\"train_batches_{}_{}_{}\".format(method, lopt, llr)]\n",
    "\n",
    "train_batches=df[columns].cumsum()\n",
    "metrics['train_batches'] = df[columns].sum()\n",
    "################################################################################\n",
    "\n",
    "\n",
    "\n",
    "\n",
    "\n",
    "\n",
    "\n",
    "################################################################################\n",
    "columns = []\n",
    "for llr in lr:\n",
    "    for lopt in opt: \n",
    "        for method in methods:\n",
    "            columns += [\"acc_avg_{}_{}_{}\".format(method, lopt, llr)]\n",
    "\n",
    "\n",
    "\n",
    "metrics['acc_avg'] = df[columns].mean()\n",
    "################################################################################\n",
    "\n",
    "\n",
    "\n",
    "\n",
    "################################################################################\n",
    "columns = []\n",
    "for llr in lr:\n",
    "    for lopt in opt:\n",
    "        for method in methods:\n",
    "            mapper = lambda row: row['acc_{}_{}_{}_T{}'.format(method, lopt, llr, int(row['task']))]\n",
    "            column_name = 'acc_run_{}_{}_{}'.format(method, lopt, llr)\n",
    "            columns += [column_name]\n",
    "            df[column_name] = df.apply(mapper, axis=1)\n",
    "\n",
    "running_acc = df[columns]\n",
    "metrics['acc_run'] = df[columns].mean()\n",
    "################################################################################\n",
    "\n",
    "\n",
    "\n",
    "\n",
    "################################################################################\n",
    "columns = []\n",
    "for llr in lr:\n",
    "    for lopt in opt:\n",
    "        for method in methods:\n",
    "            columns += [\"online_acc_{}_{}_{}\".format(method, lopt, llr)]\n",
    "\n",
    "online_acc = df[columns]\n",
    "metrics['online_acc'] = df[columns].mean()\n",
    "################################################################################\n",
    "\n",
    "\n",
    "print('\\\\begin{table}[hbt!]')\n",
    "print('\\\\centering')\n",
    "print('\\\\begin{tabular}')\n",
    "print('{|l|c||c|||c||c|}')\n",
    "print('\\\\hline')\n",
    "\n",
    "ROWS = metrics['train_batches'].keys()\n",
    "\n",
    "print(ROWS)\n",
    "\n",
    "first_row = 'Method'\n",
    "for stat in stats:\n",
    "    first_row += ' & '+LATEX_STATS[stat]\n",
    "print(first_row+\"\\\\\"+'\\\\')\n",
    "for i, name in enumerate(ROWS):\n",
    "    name = name.replace('train_batches_','').replace('_sgd_0.01', '')\n",
    "    # print('{} & '.format(name), end=' ')\n",
    "    print('{}'.format(latex_method_name[name]), end='')\n",
    "    for stat in stats:\n",
    "        res = metrics[stat].values[i]\n",
    "        print(' & {}'.format(np.round(res, decimals=3)), end='')\n",
    "    print(\"\\\\\\\\\")\n",
    "    print(\"\\n\\\\hline\")\n",
    "\n",
    "print('\\end{tabular}')\n",
    "print('\\end{table}')"
   ]
  },
  {
   "cell_type": "code",
   "execution_count": null,
   "id": "animal-trainer",
   "metadata": {
    "executionInfo": {
     "elapsed": 16,
     "status": "ok",
     "timestamp": 1636444136537,
     "user": {
      "displayName": "Charalampos Davalas",
      "photoUrl": "https://lh3.googleusercontent.com/a/default-user=s64",
      "userId": "01479009678063787320"
     },
     "user_tz": -120
    },
    "id": "animal-trainer"
   },
   "outputs": [],
   "source": []
  }
 ],
 "metadata": {
  "colab": {
   "collapsed_sections": [],
   "name": "plots_.ipynb",
   "provenance": []
  },
  "kernelspec": {
   "display_name": "Python 3 (ipykernel)",
   "language": "python",
   "name": "python3"
  },
  "language_info": {
   "codemirror_mode": {
    "name": "ipython",
    "version": 3
   },
   "file_extension": ".py",
   "mimetype": "text/x-python",
   "name": "python",
   "nbconvert_exporter": "python",
   "pygments_lexer": "ipython3",
   "version": "3.8.10"
  }
 },
 "nbformat": 4,
 "nbformat_minor": 5
}
